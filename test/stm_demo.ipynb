{
 "cells": [
  {
   "cell_type": "markdown",
   "metadata": {},
   "source": [
    "#  STM DOS Demo\n",
    "\n",
    "This notebook demos a use case that involves finding a feasible parameterization for an STM simulation from an experimental image"
   ]
  },
  {
   "cell_type": "code",
   "execution_count": null,
   "metadata": {},
   "outputs": [],
   "source": [
    "import os\n",
    "import pySPM\n",
    "import numpy as np\n",
    "import matplotlib.pyplot as plt\n",
    "\n",
    "from ingrained.image_ops import crop_by_ratio, score_vifp\n",
    "\n",
    "# Main ingrained package modules\n",
    "from ingrained.structure import PartialCharge\n",
    "from ingrained.optimize import CongruityBuilderSTM"
   ]
  },
  {
   "cell_type": "code",
   "execution_count": null,
   "metadata": {},
   "outputs": [],
   "source": [
    "# Set path for stm image\n",
    "sxm_path = \"sxm/0729LHe_D_BAgM14056.sxm\"\n",
    "# sxm_path = \"sxm/0729LHe_D_BAgM14064.sxm\"\n",
    "\n",
    "# Set path for PARCHG file\n",
    "pchg_path = \"structures/PARCHG\"\n",
    "# pchg_path = \"structures/PARCHG_4\""
   ]
  },
  {
   "cell_type": "code",
   "execution_count": null,
   "metadata": {},
   "outputs": [],
   "source": [
    "# Read the image from file into an array.\n",
    "img = pySPM.SXM(sxm_path).get_channel('Z', direction='both',corr=\"slope\").pixels\n",
    "\n",
    "# An optional way to view experimental image\n",
    "plt.imshow(img, cmap='hot'); plt.axis('off');"
   ]
  },
  {
   "cell_type": "markdown",
   "metadata": {},
   "source": [
    "There are several noisy regions in the sample image. Help the optimizer achieve better results by restricting the search to a relatively clean region of the sample. "
   ]
  },
  {
   "cell_type": "code",
   "execution_count": null,
   "metadata": {},
   "outputs": [],
   "source": [
    "#  For 0729LHe_D_BAgM14056.sxm\n",
    "rrow = (0.10,0.65) # start row (ratio), end row (ratio)\n",
    "rcol = (0.40,1.00) # start col (ratio), end col (ratio)  \n",
    "\n",
    "# For 0729LHe_D_BAgM14064.sxm\n",
    "# rrow = (0.20,0.95) # start row (ratio), end row (ratio)\n",
    "# rcol = (0.30,1.00) # start col (ratio), end col (ratio)\n",
    "\n",
    "# Crop the image\n",
    "cropped_img = crop_by_ratio(img,rrow,rcol)\n",
    "\n",
    "# View the cropped image to make sure it contains a reasonable portion of the initial image\n",
    "plt.imshow(cropped_img, cmap='hot'); plt.axis('off');"
   ]
  },
  {
   "cell_type": "code",
   "execution_count": null,
   "metadata": {},
   "outputs": [],
   "source": [
    "# Initialize a PartialCharge object from a PARCHG file\n",
    "parchar = PartialCharge(pchg_path)\n",
    "\n",
    "# Initialize a ConguityBuilder to optimize a the fit between a PARCHG structure and the experiment\n",
    "congruity = CongruityBuilderSTM(partial_charge=parchar, \\\n",
    "                                sxm=sxm_path, \\\n",
    "                                restrict_bounds=[(rrow[0], rrow[1]),(rcol[0], rcol[1])])"
   ]
  },
  {
   "cell_type": "markdown",
   "metadata": {},
   "source": [
    "Define a starting point for optimization.  <br/>**NOTE**: Picking good starting parameters is very important.\n",
    "If you have no intuition about this, consider using a COBYLA optimizer to find reasonable starting point!\n",
    "(Will take ~30 mins to run)"
   ]
  },
  {
   "cell_type": "code",
   "execution_count": null,
   "metadata": {},
   "outputs": [],
   "source": [
    "# Define a starting point for optimization \n",
    "#    | zthk | ztol | rval | rtol | rang | pixs |\n",
    "x0 = [-0.5 , 8.0 , 4 , 3.5 , 285 , 0.16]"
   ]
  },
  {
   "cell_type": "code",
   "execution_count": null,
   "metadata": {},
   "outputs": [],
   "source": [
    "# Perform *unconstrained* minimization using a POWELL solver for further refine the solution from the previous step.\n",
    "# NOTE: Takes sequential one-dimensional minimizations, \n",
    "#       so convergence can be quite slow. Violation of any HARD \n",
    "#       constraints defined inside the PartialCharge and\n",
    "#       ConguityBuilderSTM classes will throw an arbitrarily \n",
    "#       large '9999' FOM value.\n",
    "\n",
    "res = congruity.find_correspondence(optimizer='Powell', initial_solution=x0)"
   ]
  },
  {
   "cell_type": "markdown",
   "metadata": {},
   "source": [
    "Get the parameter values from the result and print out a final 'ingrained' image with the corresponding simulated and experimental images."
   ]
  },
  {
   "cell_type": "code",
   "execution_count": null,
   "metadata": {},
   "outputs": [],
   "source": [
    "zthick,ztol,rho0,rho_tol,rotation_angle,pixel_size = res.x\n",
    "\n",
    "# DO NOT FORGET TO DO THIS - these values were scaled up to ranges commensurate with other variables\n",
    "rho0    = float(rho0)/1000\n",
    "rho_tol = float(rho_tol)/1000\n",
    "\n",
    "congruity.fit(zthick=zthick, \\\n",
    "              ztol=ztol, \\\n",
    "              rho0=rho0, \\\n",
    "              rho_tol=rho_tol, \\\n",
    "              pixel_size=pixel_size, \\\n",
    "              rotation_angle=rotation_angle, \\\n",
    "              save_simulation = 'results/'+sxm_path.split(\"/\")[-1]+\"_sim.jpg\", \\\n",
    "              save_experiment = 'results/'+sxm_path.split(\"/\")[-1]+\"_exp.jpg\", \\\n",
    "              display=True)"
   ]
  }
 ],
 "metadata": {
  "kernelspec": {
   "display_name": "Python 3",
   "language": "python",
   "name": "python3"
  },
  "language_info": {
   "codemirror_mode": {
    "name": "ipython",
    "version": 3
   },
   "file_extension": ".py",
   "mimetype": "text/x-python",
   "name": "python",
   "nbconvert_exporter": "python",
   "pygments_lexer": "ipython3",
   "version": "3.7.6"
  }
 },
 "nbformat": 4,
 "nbformat_minor": 2
}
